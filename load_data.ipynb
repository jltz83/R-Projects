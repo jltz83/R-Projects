{
 "cells": [
  {
   "cell_type": "code",
   "execution_count": null,
   "metadata": {
    "vscode": {
     "languageId": "r"
    }
   },
   "outputs": [
    {
     "name": "stderr",
     "output_type": "stream",
     "text": [
      "── \u001b[1mAttaching core tidyverse packages\u001b[22m ──────────────────────── tidyverse 2.0.0 ──\n",
      "\u001b[32m✔\u001b[39m \u001b[34mdplyr    \u001b[39m 1.1.4     \u001b[32m✔\u001b[39m \u001b[34mreadr    \u001b[39m 2.1.5\n",
      "\u001b[32m✔\u001b[39m \u001b[34mforcats  \u001b[39m 1.0.0     \u001b[32m✔\u001b[39m \u001b[34mstringr  \u001b[39m 1.5.1\n",
      "\u001b[32m✔\u001b[39m \u001b[34mggplot2  \u001b[39m 3.5.2     \u001b[32m✔\u001b[39m \u001b[34mtibble   \u001b[39m 3.3.0\n",
      "\u001b[32m✔\u001b[39m \u001b[34mlubridate\u001b[39m 1.9.4     \u001b[32m✔\u001b[39m \u001b[34mtidyr    \u001b[39m 1.3.1\n",
      "\u001b[32m✔\u001b[39m \u001b[34mpurrr    \u001b[39m 1.0.4     \n",
      "── \u001b[1mConflicts\u001b[22m ────────────────────────────────────────── tidyverse_conflicts() ──\n",
      "\u001b[31m✖\u001b[39m \u001b[34mdplyr\u001b[39m::\u001b[32mfilter()\u001b[39m masks \u001b[34mstats\u001b[39m::filter()\n",
      "\u001b[31m✖\u001b[39m \u001b[34mdplyr\u001b[39m::\u001b[32mlag()\u001b[39m    masks \u001b[34mstats\u001b[39m::lag()\n",
      "\u001b[36mℹ\u001b[39m Use the conflicted package (\u001b[3m\u001b[34m<http://conflicted.r-lib.org/>\u001b[39m\u001b[23m) to force all conflicts to become errors\n"
     ]
    },
    {
     "data": {
      "image/png": "[encoded data removed]",
      "text/plain": [
       "plot without title"
      ]
     },
     "metadata": {
      "image/png": {
       "height": 420,
       "width": 420
      }
     },
     "output_type": "display_data"
    }
   ],
   "source": [
    "library(tidyverse)\n",
    "\n",
    "ggplot(mpg) +\n",
    "    geom_bar(aes(x = class))"
   ]
  },
  {
   "cell_type": "code",
   "execution_count": 11,
   "id": "ca72307d",
   "metadata": {
    "vscode": {
     "languageId": "r"
    }
   },
   "outputs": [],
   "source": [
    "library(readxl)\n",
    "library(httr)"
   ]
  },
  {
   "cell_type": "code",
   "execution_count": 13,
   "id": "bc989a0c",
   "metadata": {
    "vscode": {
     "languageId": "r"
    }
   },
   "outputs": [
    {
     "data": {
      "text/plain": [
       "Response [https://raw.githubusercontent.com/jltz83/jlt0/9a3174b0b1cc182fb169e319ef07fbd03ad5a4cf/person_id.xlsx]\n",
       "  Date: 2025-07-06 18:27\n",
       "  Status: 200\n",
       "  Content-Type: application/octet-stream\n",
       "  Size: 11.7 MB\n",
       "<ON DISK>  /tmp/Rtmp57uM82/filecee36467f00.xlsxNULL"
      ]
     },
     "metadata": {},
     "output_type": "display_data"
    },
    {
     "data": {
      "text/plain": [
       "Response [https://raw.githubusercontent.com/jltz83/jlt0/9a3174b0b1cc182fb169e319ef07fbd03ad5a4cf/releases.xlsx]\n",
       "  Date: 2025-07-06 18:27\n",
       "  Status: 200\n",
       "  Content-Type: application/octet-stream\n",
       "  Size: 6.17 MB\n",
       "<ON DISK>  /tmp/Rtmp57uM82/filecee36467f00.xlsxNULL"
      ]
     },
     "metadata": {},
     "output_type": "display_data"
    }
   ],
   "source": [
    "url_person_id = 'https://github.com/jltz83/jlt0/blob/9a3174b0b1cc182fb169e319ef07fbd03ad5a4cf/person_id.xlsx?raw=TRUE'\n",
    "\n",
    "# Download the file temporarily\n",
    "temp_file <- tempfile(fileext = \".xlsx\")\n",
    "GET(url_person_id, write_disk(temp_file, overwrite = TRUE))\n",
    "\n",
    "# Read the .xlsx file\n",
    "person_id <- read_excel(temp_file)\n",
    "\n",
    "\n",
    "url_releases = 'https://github.com/jltz83/jlt0/blob/9a3174b0b1cc182fb169e319ef07fbd03ad5a4cf/releases.xlsx?raw=TRUE'\n",
    "\n",
    "GET(url_releases, write_disk(temp_file, overwrite = TRUE))\n",
    "\n",
    "# Read the .xlsx file\n",
    "releases <- read_excel(temp_file)\n",
    "\n",
    "# Clean up the temporary file\n",
    "unlink(temp_file)\n",
    "\n"
   ]
  },
  {
   "cell_type": "code",
   "execution_count": 14,
   "id": "bdc9a60f",
   "metadata": {
    "vscode": {
     "languageId": "r"
    }
   },
   "outputs": [
    {
     "data": {
      "text/html": [
       "<table class=\"dataframe\">\n",
       "<caption>A tibble: 6 × 2</caption>\n",
       "<thead>\n",
       "\t<tr><th scope=col>PERSON_ID</th><th scope=col>CYCLE</th></tr>\n",
       "\t<tr><th scope=col>&lt;dbl&gt;</th><th scope=col>&lt;dbl&gt;</th></tr>\n",
       "</thead>\n",
       "<tbody>\n",
       "\t<tr><td>1</td><td>1</td></tr>\n",
       "\t<tr><td>2</td><td>1</td></tr>\n",
       "\t<tr><td>4</td><td>1</td></tr>\n",
       "\t<tr><td>5</td><td>2</td></tr>\n",
       "\t<tr><td>7</td><td>1</td></tr>\n",
       "\t<tr><td>8</td><td>1</td></tr>\n",
       "</tbody>\n",
       "</table>\n"
      ],
      "text/latex": [
       "A tibble: 6 × 2\n",
       "\\begin{tabular}{ll}\n",
       " PERSON\\_ID & CYCLE\\\\\n",
       " <dbl> & <dbl>\\\\\n",
       "\\hline\n",
       "\t 1 & 1\\\\\n",
       "\t 2 & 1\\\\\n",
       "\t 4 & 1\\\\\n",
       "\t 5 & 2\\\\\n",
       "\t 7 & 1\\\\\n",
       "\t 8 & 1\\\\\n",
       "\\end{tabular}\n"
      ],
      "text/markdown": [
       "\n",
       "A tibble: 6 × 2\n",
       "\n",
       "| PERSON_ID &lt;dbl&gt; | CYCLE &lt;dbl&gt; |\n",
       "|---|---|\n",
       "| 1 | 1 |\n",
       "| 2 | 1 |\n",
       "| 4 | 1 |\n",
       "| 5 | 2 |\n",
       "| 7 | 1 |\n",
       "| 8 | 1 |\n",
       "\n"
      ],
      "text/plain": [
       "  PERSON_ID CYCLE\n",
       "1 1         1    \n",
       "2 2         1    \n",
       "3 4         1    \n",
       "4 5         2    \n",
       "5 7         1    \n",
       "6 8         1    "
      ]
     },
     "metadata": {},
     "output_type": "display_data"
    }
   ],
   "source": [
    "head(person_id)"
   ]
  },
  {
   "cell_type": "code",
   "execution_count": 15,
   "id": "7f028f18",
   "metadata": {
    "vscode": {
     "languageId": "r"
    }
   },
   "outputs": [
    {
     "data": {
      "text/html": [
       "<table class=\"dataframe\">\n",
       "<caption>A tibble: 6 × 9</caption>\n",
       "<thead>\n",
       "\t<tr><th scope=col>PERSON_ID</th><th scope=col>CYCLE</th><th scope=col>EXIT_DATE</th><th scope=col>ADMIN_DATE</th><th scope=col>SENTECE_DATE</th><th scope=col>COUNTY</th><th scope=col>MOCODE_DESC</th><th scope=col>OFFENSE_GROUP</th><th scope=col>SENTENCE_YEARS</th></tr>\n",
       "\t<tr><th scope=col>&lt;dbl&gt;</th><th scope=col>&lt;dbl&gt;</th><th scope=col>&lt;chr&gt;</th><th scope=col>&lt;chr&gt;</th><th scope=col>&lt;dbl&gt;</th><th scope=col>&lt;chr&gt;</th><th scope=col>&lt;chr&gt;</th><th scope=col>&lt;chr&gt;</th><th scope=col>&lt;dbl&gt;</th></tr>\n",
       "</thead>\n",
       "<tbody>\n",
       "\t<tr><td>1144741</td><td>2</td><td>2012-11-02</td><td>2011-04-20</td><td>20100827</td><td>DEKALB          </td><td>23013 TAMPER WITH MOTOR VEH-1S</td><td>NONVIOLENT</td><td>5</td></tr>\n",
       "\t<tr><td>2102381</td><td>3</td><td>2016-09-08</td><td>2016-05-11</td><td>20131112</td><td>ST. FRANCOIS    </td><td>13029 DOMESTIC ASSAULT-2ND DEG</td><td>VIOLENT   </td><td>7</td></tr>\n",
       "\t<tr><td>    360</td><td>2</td><td>2014-01-21</td><td>2013-06-05</td><td>20070116</td><td>NA              </td><td>22352 PR OFNDR RESIDE-1000 FT-</td><td>SEXCHLABUS</td><td>3</td></tr>\n",
       "\t<tr><td>    382</td><td>2</td><td>2009-04-03</td><td>2007-10-17</td><td>20080115</td><td>NA              </td><td>32450 POSS CONTROLLED SUBSTANC</td><td>DRUG      </td><td>7</td></tr>\n",
       "\t<tr><td>    460</td><td>2</td><td>2015-06-12</td><td>2011-09-09</td><td>20110906</td><td>ST. LOUIS COUNTY</td><td>13029 DOMESTIC ASSAULT-2ND DEG</td><td>VIOLENT   </td><td>7</td></tr>\n",
       "\t<tr><td>    487</td><td>2</td><td>2009-01-30</td><td>2008-07-14</td><td>20050106</td><td>NEWTON          </td><td>32450 POSS CONTROLLED SUBSTANC</td><td>DRUG      </td><td>6</td></tr>\n",
       "</tbody>\n",
       "</table>\n"
      ],
      "text/latex": [
       "A tibble: 6 × 9\n",
       "\\begin{tabular}{lllllllll}\n",
       " PERSON\\_ID & CYCLE & EXIT\\_DATE & ADMIN\\_DATE & SENTECE\\_DATE & COUNTY & MOCODE\\_DESC & OFFENSE\\_GROUP & SENTENCE\\_YEARS\\\\\n",
       " <dbl> & <dbl> & <chr> & <chr> & <dbl> & <chr> & <chr> & <chr> & <dbl>\\\\\n",
       "\\hline\n",
       "\t 1144741 & 2 & 2012-11-02 & 2011-04-20 & 20100827 & DEKALB           & 23013 TAMPER WITH MOTOR VEH-1S & NONVIOLENT & 5\\\\\n",
       "\t 2102381 & 3 & 2016-09-08 & 2016-05-11 & 20131112 & ST. FRANCOIS     & 13029 DOMESTIC ASSAULT-2ND DEG & VIOLENT    & 7\\\\\n",
       "\t     360 & 2 & 2014-01-21 & 2013-06-05 & 20070116 & NA               & 22352 PR OFNDR RESIDE-1000 FT- & SEXCHLABUS & 3\\\\\n",
       "\t     382 & 2 & 2009-04-03 & 2007-10-17 & 20080115 & NA               & 32450 POSS CONTROLLED SUBSTANC & DRUG       & 7\\\\\n",
       "\t     460 & 2 & 2015-06-12 & 2011-09-09 & 20110906 & ST. LOUIS COUNTY & 13029 DOMESTIC ASSAULT-2ND DEG & VIOLENT    & 7\\\\\n",
       "\t     487 & 2 & 2009-01-30 & 2008-07-14 & 20050106 & NEWTON           & 32450 POSS CONTROLLED SUBSTANC & DRUG       & 6\\\\\n",
       "\\end{tabular}\n"
      ],
      "text/markdown": [
       "\n",
       "A tibble: 6 × 9\n",
       "\n",
       "| PERSON_ID &lt;dbl&gt; | CYCLE &lt;dbl&gt; | EXIT_DATE &lt;chr&gt; | ADMIN_DATE &lt;chr&gt; | SENTECE_DATE &lt;dbl&gt; | COUNTY &lt;chr&gt; | MOCODE_DESC &lt;chr&gt; | OFFENSE_GROUP &lt;chr&gt; | SENTENCE_YEARS &lt;dbl&gt; |\n",
       "|---|---|---|---|---|---|---|---|---|\n",
       "| 1144741 | 2 | 2012-11-02 | 2011-04-20 | 20100827 | DEKALB           | 23013 TAMPER WITH MOTOR VEH-1S | NONVIOLENT | 5 |\n",
       "| 2102381 | 3 | 2016-09-08 | 2016-05-11 | 20131112 | ST. FRANCOIS     | 13029 DOMESTIC ASSAULT-2ND DEG | VIOLENT    | 7 |\n",
       "|     360 | 2 | 2014-01-21 | 2013-06-05 | 20070116 | NA               | 22352 PR OFNDR RESIDE-1000 FT- | SEXCHLABUS | 3 |\n",
       "|     382 | 2 | 2009-04-03 | 2007-10-17 | 20080115 | NA               | 32450 POSS CONTROLLED SUBSTANC | DRUG       | 7 |\n",
       "|     460 | 2 | 2015-06-12 | 2011-09-09 | 20110906 | ST. LOUIS COUNTY | 13029 DOMESTIC ASSAULT-2ND DEG | VIOLENT    | 7 |\n",
       "|     487 | 2 | 2009-01-30 | 2008-07-14 | 20050106 | NEWTON           | 32450 POSS CONTROLLED SUBSTANC | DRUG       | 6 |\n",
       "\n"
      ],
      "text/plain": [
       "  PERSON_ID CYCLE EXIT_DATE  ADMIN_DATE SENTECE_DATE COUNTY          \n",
       "1 1144741   2     2012-11-02 2011-04-20 20100827     DEKALB          \n",
       "2 2102381   3     2016-09-08 2016-05-11 20131112     ST. FRANCOIS    \n",
       "3     360   2     2014-01-21 2013-06-05 20070116     NA              \n",
       "4     382   2     2009-04-03 2007-10-17 20080115     NA              \n",
       "5     460   2     2015-06-12 2011-09-09 20110906     ST. LOUIS COUNTY\n",
       "6     487   2     2009-01-30 2008-07-14 20050106     NEWTON          \n",
       "  MOCODE_DESC                    OFFENSE_GROUP SENTENCE_YEARS\n",
       "1 23013 TAMPER WITH MOTOR VEH-1S NONVIOLENT    5             \n",
       "2 13029 DOMESTIC ASSAULT-2ND DEG VIOLENT       7             \n",
       "3 22352 PR OFNDR RESIDE-1000 FT- SEXCHLABUS    3             \n",
       "4 32450 POSS CONTROLLED SUBSTANC DRUG          7             \n",
       "5 13029 DOMESTIC ASSAULT-2ND DEG VIOLENT       7             \n",
       "6 32450 POSS CONTROLLED SUBSTANC DRUG          6             "
      ]
     },
     "metadata": {},
     "output_type": "display_data"
    }
   ],
   "source": [
    "head(releases)"
   ]
  },
  {
   "cell_type": "code",
   "execution_count": null,
   "id": "ba45d23c",
   "metadata": {
    "vscode": {
     "languageId": "r"
    }
   },
   "outputs": [],
   "source": []
  }
 ],
 "metadata": {
  "kernelspec": {
   "display_name": "R",
   "language": "R",
   "name": "ir"
  },
  "language_info": {
   "codemirror_mode": "r",
   "file_extension": ".r",
   "mimetype": "text/x-r-source",
   "name": "R",
   "pygments_lexer": "r",
   "version": "4.5.1"
  }
 },
 "nbformat": 4,
 "nbformat_minor": 5
}
