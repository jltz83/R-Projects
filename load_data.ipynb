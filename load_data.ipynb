{
 "cells": [
  {
   "cell_type": "code",
   "execution_count": 2,
   "id": "027f3528",
   "metadata": {
    "vscode": {
     "languageId": "r"
    }
   },
   "outputs": [
    {
     "name": "stderr",
     "output_type": "stream",
     "text": [
      "Installing package into ‘/usr/local/lib/R/site-library’\n",
      "(as ‘lib’ is unspecified)\n",
      "\n"
     ]
    },
    {
     "name": "stderr",
     "output_type": "stream",
     "text": [
      "Installing package into ‘/usr/local/lib/R/site-library’\n",
      "(as ‘lib’ is unspecified)\n",
      "\n"
     ]
    }
   ],
   "source": [
    "install.packages(\"tidyverse\")\n",
    "install.packages(\"readxl\")"
   ]
  },
  {
   "cell_type": "code",
   "execution_count": 3,
   "id": "ca72307d",
   "metadata": {
    "vscode": {
     "languageId": "r"
    }
   },
   "outputs": [
    {
     "name": "stderr",
     "output_type": "stream",
     "text": [
      "── \u001b[1mAttaching core tidyverse packages\u001b[22m ──────────────────────── tidyverse 2.0.0 ──\n",
      "\u001b[32m✔\u001b[39m \u001b[34mdplyr    \u001b[39m 1.1.4     \u001b[32m✔\u001b[39m \u001b[34mreadr    \u001b[39m 2.1.5\n",
      "\u001b[32m✔\u001b[39m \u001b[34mforcats  \u001b[39m 1.0.0     \u001b[32m✔\u001b[39m \u001b[34mstringr  \u001b[39m 1.5.1\n",
      "\u001b[32m✔\u001b[39m \u001b[34mggplot2  \u001b[39m 3.5.2     \u001b[32m✔\u001b[39m \u001b[34mtibble   \u001b[39m 3.3.0\n",
      "\u001b[32m✔\u001b[39m \u001b[34mlubridate\u001b[39m 1.9.4     \u001b[32m✔\u001b[39m \u001b[34mtidyr    \u001b[39m 1.3.1\n",
      "\u001b[32m✔\u001b[39m \u001b[34mpurrr    \u001b[39m 1.0.4     \n",
      "── \u001b[1mConflicts\u001b[22m ────────────────────────────────────────── tidyverse_conflicts() ──\n",
      "\u001b[31m✖\u001b[39m \u001b[34mdplyr\u001b[39m::\u001b[32mfilter()\u001b[39m masks \u001b[34mstats\u001b[39m::filter()\n",
      "\u001b[31m✖\u001b[39m \u001b[34mdplyr\u001b[39m::\u001b[32mlag()\u001b[39m    masks \u001b[34mstats\u001b[39m::lag()\n",
      "\u001b[36mℹ\u001b[39m Use the conflicted package (\u001b[3m\u001b[34m<http://conflicted.r-lib.org/>\u001b[39m\u001b[23m) to force all conflicts to become errors\n"
     ]
    }
   ],
   "source": [
    "library(tidyverse)\n",
    "library(readxl)\n",
    "library(httr)"
   ]
  },
  {
   "cell_type": "code",
   "execution_count": 13,
   "id": "bc989a0c",
   "metadata": {
    "vscode": {
     "languageId": "r"
    }
   },
   "outputs": [
    {
     "data": {
      "text/plain": [
       "Response [https://raw.githubusercontent.com/jltz83/data_files/refs/heads/main/data_dictionary.xlsx]\n",
       "  Date: 2025-07-09 12:13\n",
       "  Status: 200\n",
       "  Content-Type: application/octet-stream\n",
       "  Size: 5.28 kB\n",
       "<ON DISK>  /tmp/RtmpvmpA2P/file60b2bc36b3f.xlsxNULL"
      ]
     },
     "metadata": {},
     "output_type": "display_data"
    },
    {
     "data": {
      "text/plain": [
       "Response [https://raw.githubusercontent.com/jltz83/data_files/refs/heads/main/person_id.xlsx]\n",
       "  Date: 2025-07-09 12:13\n",
       "  Status: 200\n",
       "  Content-Type: application/octet-stream\n",
       "  Size: 1.78 MB\n",
       "<ON DISK>  /tmp/RtmpvmpA2P/file60b2bc36b3f.xlsxNULL"
      ]
     },
     "metadata": {},
     "output_type": "display_data"
    },
    {
     "data": {
      "text/plain": [
       "Response [https://raw.githubusercontent.com/jltz83/data_files/refs/heads/main/releases.xlsx]\n",
       "  Date: 2025-07-09 12:13\n",
       "  Status: 200\n",
       "  Content-Type: application/octet-stream\n",
       "  Size: 10.4 MB\n",
       "<ON DISK>  /tmp/RtmpvmpA2P/file60b2bc36b3f.xlsxNULL"
      ]
     },
     "metadata": {},
     "output_type": "display_data"
    },
    {
     "data": {
      "text/plain": [
       "Response [https://raw.githubusercontent.com/jltz83/data_files/refs/heads/main/classes.xlsx]\n",
       "  Date: 2025-07-09 12:13\n",
       "  Status: 200\n",
       "  Content-Type: application/octet-stream\n",
       "  Size: 6.77 MB\n",
       "<ON DISK>  /tmp/RtmpvmpA2P/file60b2bc36b3f.xlsxNULL"
      ]
     },
     "metadata": {},
     "output_type": "display_data"
    },
    {
     "name": "stderr",
     "output_type": "stream",
     "text": [
      "\u001b[1m\u001b[22mNew names:\n",
      "\u001b[36m•\u001b[39m `EXIT_TYPE_CD` -> `EXIT_TYPE_CD...2`\n",
      "\u001b[36m•\u001b[39m `EXIT_TYPE_CD` -> `EXIT_TYPE_CD...7`\n"
     ]
    },
    {
     "data": {
      "text/plain": [
       "Response [https://raw.githubusercontent.com/jltz83/data_files/refs/heads/main/institutional_work.xlsx]\n",
       "  Date: 2025-07-09 12:13\n",
       "  Status: 200\n",
       "  Content-Type: application/octet-stream\n",
       "  Size: 9.97 MB\n",
       "<ON DISK>  /tmp/RtmpvmpA2P/file60b2bc36b3f.xlsxNULL"
      ]
     },
     "metadata": {},
     "output_type": "display_data"
    },
    {
     "data": {
      "text/plain": [
       "Response [https://raw.githubusercontent.com/jltz83/data_files/refs/heads/main/violations.xlsx]\n",
       "  Date: 2025-07-09 12:13\n",
       "  Status: 200\n",
       "  Content-Type: application/octet-stream\n",
       "  Size: 6.52 MB\n",
       "<ON DISK>  /tmp/RtmpvmpA2P/file60b2bc36b3f.xlsxNULL"
      ]
     },
     "metadata": {},
     "output_type": "display_data"
    },
    {
     "data": {
      "text/plain": [
       "Response [https://raw.githubusercontent.com/jltz83/data_files/refs/heads/main/supervision_violations_1.xlsx]\n",
       "  Date: 2025-07-09 12:13\n",
       "  Status: 200\n",
       "  Content-Type: application/octet-stream\n",
       "  Size: 9.85 MB\n",
       "<ON DISK>  /tmp/RtmpvmpA2P/file60b2bc36b3f.xlsxNULL"
      ]
     },
     "metadata": {},
     "output_type": "display_data"
    }
   ],
   "source": [
    "url_data_dictionary= 'https://github.com/jltz83/data_files/blob/main/data_dictionary.xlsx?raw=TRUE'\n",
    "url_person_id= 'https://github.com/jltz83/data_files/blob/main/person_id.xlsx?raw=TRUE'\n",
    "url_releases = 'https://github.com/jltz83/data_files/blob/main/releases.xlsx?raw=TRUE'\n",
    "url_classes= 'https://github.com/jltz83/data_files/blob/main/classes.xlsx?raw=TRUE'\n",
    "url_institutional_work= 'https://github.com/jltz83/data_files/blob/main/institutional_work.xlsx?raw=TRUE'\n",
    "url_violations= 'https://github.com/jltz83/data_files/blob/main/violations.xlsx?raw=TRUE'\n",
    "# url_supervision= 'https://github.com/jltz83/data_files/blob/main/supervision.xlsx?raw=TRUE'\n",
    "url_supervision_violations_1= 'https://github.com/jltz83/data_files/blob/main/supervision_violations_1.xlsx?raw=TRUE'\n",
    "# url_supervision_violations_2= 'https://github.com/jltz83/data_files/blob/main/supervision_violations_2.xlsx?raw=TRUE'\n",
    "# url_supervision_violations_3= 'https://github.com/jltz83/data_files/blob/main/supervision_violations_3.xlsx?raw=TRUE'\n",
    "\n",
    "\n",
    "# Download the file temporarily\n",
    "temp_file <- tempfile(fileext = \".xlsx\")\n",
    "\n",
    "GET(url_data_dictionary, write_disk(temp_file, overwrite = TRUE))\n",
    "data_dictionary <- read_excel(temp_file)\n",
    "\n",
    "GET(url_person_id, write_disk(temp_file, overwrite = TRUE))\n",
    "person_id <- read_excel(temp_file)\n",
    "\n",
    "GET(url_releases, write_disk(temp_file, overwrite = TRUE))\n",
    "releases <- read_excel(temp_file)\n",
    "\n",
    "GET(url_classes, write_disk(temp_file, overwrite = TRUE))\n",
    "classes <- read_excel(temp_file)\n",
    "\n",
    "GET(url_institutional_work, write_disk(temp_file, overwrite = TRUE))\n",
    "institutional_work <- read_excel(temp_file)\n",
    "\n",
    "GET(url_violations, write_disk(temp_file, overwrite = TRUE))\n",
    "violations <- read_excel(temp_file)\n",
    "\n",
    "# GET(url_supervision, write_disk(temp_file, overwrite = TRUE))\n",
    "# supervision <- read_excel(temp_file)\n",
    "\n",
    "GET(url_supervision_violations_1, write_disk(temp_file, overwrite = TRUE))\n",
    "supervision_violations_1 <- read_excel(temp_file)\n",
    "\n",
    "# GET(url_supervision_violations_2, write_disk(temp_file, overwrite = TRUE))\n",
    "# supervision_violations_2 <- read_excel(temp_file)\n",
    "\n",
    "# GET(url_supervision_violations_3, write_disk(temp_file, overwrite = TRUE))\n",
    "# supervision_violations_3 <- read_excel(temp_file)\n",
    "\n",
    "# Clean up the temporary file\n",
    "unlink(temp_file)\n"
   ]
  },
  {
   "cell_type": "code",
   "execution_count": 11,
   "id": "bdc9a60f",
   "metadata": {
    "vscode": {
     "languageId": "r"
    }
   },
   "outputs": [
    {
     "data": {
      "text/html": [
       "<table class=\"dataframe\">\n",
       "<caption>A tibble: 6 × 3</caption>\n",
       "<thead>\n",
       "\t<tr><th scope=col>FILE</th><th scope=col>COLUMN</th><th scope=col>DESCRIPTION</th></tr>\n",
       "\t<tr><th scope=col>&lt;chr&gt;</th><th scope=col>&lt;chr&gt;</th><th scope=col>&lt;chr&gt;</th></tr>\n",
       "</thead>\n",
       "<tbody>\n",
       "\t<tr><td>PERSON_ID</td><td>PERSON_ID </td><td>Unique person id                                                                             </td></tr>\n",
       "\t<tr><td>PERSON_ID</td><td>CYCLE     </td><td>Sentence cycle - Series of sentences to be served concurrent and/or consecutive to each other</td></tr>\n",
       "\t<tr><td>RELEASES </td><td>PERSON_ID </td><td>Unique person id                                                                             </td></tr>\n",
       "\t<tr><td>RELEASES </td><td>CYCLE     </td><td>Sentence cycle - Series of sentences to be served concurrent and/or consecutive to each other</td></tr>\n",
       "\t<tr><td>RELEASES </td><td>EXIT_DATE </td><td>Date of release from prison                                                                  </td></tr>\n",
       "\t<tr><td>RELEASES </td><td>ADMIN_DATE</td><td>NA                                                                                           </td></tr>\n",
       "</tbody>\n",
       "</table>\n"
      ],
      "text/latex": [
       "A tibble: 6 × 3\n",
       "\\begin{tabular}{lll}\n",
       " FILE & COLUMN & DESCRIPTION\\\\\n",
       " <chr> & <chr> & <chr>\\\\\n",
       "\\hline\n",
       "\t PERSON\\_ID & PERSON\\_ID  & Unique person id                                                                             \\\\\n",
       "\t PERSON\\_ID & CYCLE      & Sentence cycle - Series of sentences to be served concurrent and/or consecutive to each other\\\\\n",
       "\t RELEASES  & PERSON\\_ID  & Unique person id                                                                             \\\\\n",
       "\t RELEASES  & CYCLE      & Sentence cycle - Series of sentences to be served concurrent and/or consecutive to each other\\\\\n",
       "\t RELEASES  & EXIT\\_DATE  & Date of release from prison                                                                  \\\\\n",
       "\t RELEASES  & ADMIN\\_DATE & NA                                                                                           \\\\\n",
       "\\end{tabular}\n"
      ],
      "text/markdown": [
       "\n",
       "A tibble: 6 × 3\n",
       "\n",
       "| FILE &lt;chr&gt; | COLUMN &lt;chr&gt; | DESCRIPTION &lt;chr&gt; |\n",
       "|---|---|---|\n",
       "| PERSON_ID | PERSON_ID  | Unique person id                                                                              |\n",
       "| PERSON_ID | CYCLE      | Sentence cycle - Series of sentences to be served concurrent and/or consecutive to each other |\n",
       "| RELEASES  | PERSON_ID  | Unique person id                                                                              |\n",
       "| RELEASES  | CYCLE      | Sentence cycle - Series of sentences to be served concurrent and/or consecutive to each other |\n",
       "| RELEASES  | EXIT_DATE  | Date of release from prison                                                                   |\n",
       "| RELEASES  | ADMIN_DATE | NA                                                                                            |\n",
       "\n"
      ],
      "text/plain": [
       "  FILE      COLUMN    \n",
       "1 PERSON_ID PERSON_ID \n",
       "2 PERSON_ID CYCLE     \n",
       "3 RELEASES  PERSON_ID \n",
       "4 RELEASES  CYCLE     \n",
       "5 RELEASES  EXIT_DATE \n",
       "6 RELEASES  ADMIN_DATE\n",
       "  DESCRIPTION                                                                                  \n",
       "1 Unique person id                                                                             \n",
       "2 Sentence cycle - Series of sentences to be served concurrent and/or consecutive to each other\n",
       "3 Unique person id                                                                             \n",
       "4 Sentence cycle - Series of sentences to be served concurrent and/or consecutive to each other\n",
       "5 Date of release from prison                                                                  \n",
       "6 NA                                                                                           "
      ]
     },
     "metadata": {},
     "output_type": "display_data"
    }
   ],
   "source": [
    "head(data_dictionary)"
   ]
  },
  {
   "cell_type": "code",
   "execution_count": 12,
   "id": "7f028f18",
   "metadata": {
    "vscode": {
     "languageId": "r"
    }
   },
   "outputs": [
    {
     "data": {
      "text/html": [
       "<table class=\"dataframe\">\n",
       "<caption>A tibble: 6 × 2</caption>\n",
       "<thead>\n",
       "\t<tr><th scope=col>PERSON_ID</th><th scope=col>CYCLE</th></tr>\n",
       "\t<tr><th scope=col>&lt;dbl&gt;</th><th scope=col>&lt;dbl&gt;</th></tr>\n",
       "</thead>\n",
       "<tbody>\n",
       "\t<tr><td>33878405</td><td>1</td></tr>\n",
       "\t<tr><td>33878405</td><td>2</td></tr>\n",
       "\t<tr><td> 6331985</td><td>1</td></tr>\n",
       "\t<tr><td> 6331985</td><td>2</td></tr>\n",
       "\t<tr><td> 6331985</td><td>3</td></tr>\n",
       "\t<tr><td>22072070</td><td>1</td></tr>\n",
       "</tbody>\n",
       "</table>\n"
      ],
      "text/latex": [
       "A tibble: 6 × 2\n",
       "\\begin{tabular}{ll}\n",
       " PERSON\\_ID & CYCLE\\\\\n",
       " <dbl> & <dbl>\\\\\n",
       "\\hline\n",
       "\t 33878405 & 1\\\\\n",
       "\t 33878405 & 2\\\\\n",
       "\t  6331985 & 1\\\\\n",
       "\t  6331985 & 2\\\\\n",
       "\t  6331985 & 3\\\\\n",
       "\t 22072070 & 1\\\\\n",
       "\\end{tabular}\n"
      ],
      "text/markdown": [
       "\n",
       "A tibble: 6 × 2\n",
       "\n",
       "| PERSON_ID &lt;dbl&gt; | CYCLE &lt;dbl&gt; |\n",
       "|---|---|\n",
       "| 33878405 | 1 |\n",
       "| 33878405 | 2 |\n",
       "|  6331985 | 1 |\n",
       "|  6331985 | 2 |\n",
       "|  6331985 | 3 |\n",
       "| 22072070 | 1 |\n",
       "\n"
      ],
      "text/plain": [
       "  PERSON_ID CYCLE\n",
       "1 33878405  1    \n",
       "2 33878405  2    \n",
       "3  6331985  1    \n",
       "4  6331985  2    \n",
       "5  6331985  3    \n",
       "6 22072070  1    "
      ]
     },
     "metadata": {},
     "output_type": "display_data"
    }
   ],
   "source": [
    "head(person_id)"
   ]
  },
  {
   "cell_type": "code",
   "execution_count": 14,
   "id": "4ea44d49",
   "metadata": {
    "vscode": {
     "languageId": "r"
    }
   },
   "outputs": [
    {
     "data": {
      "text/html": [
       "<table class=\"dataframe\">\n",
       "<caption>A tibble: 6 × 19</caption>\n",
       "<thead>\n",
       "\t<tr><th scope=col>PERSON_ID</th><th scope=col>CYCLE</th><th scope=col>ADMISSION_DATE</th><th scope=col>RELEASE_DATE</th><th scope=col>AGE_AT_ADMISSION</th><th scope=col>AGE_AT_EXIT</th><th scope=col>COUNTY</th><th scope=col>MOCODE_DESC</th><th scope=col>OFFENSE_GROUP</th><th scope=col>SENTENCE_YEARS</th><th scope=col>ADMISSION_TYPE</th><th scope=col>RELEASE_TYPE</th><th scope=col>LAST_CUSTODY_LEVEL</th><th scope=col>LAST_MH_CODE</th><th scope=col>LAST_M_CODE</th><th scope=col>LAST_E_CODE</th><th scope=col>LAST_V_CODE</th><th scope=col>LAST_I_CODE</th><th scope=col>DEATH_DATE</th></tr>\n",
       "\t<tr><th scope=col>&lt;dbl&gt;</th><th scope=col>&lt;dbl&gt;</th><th scope=col>&lt;chr&gt;</th><th scope=col>&lt;chr&gt;</th><th scope=col>&lt;dbl&gt;</th><th scope=col>&lt;dbl&gt;</th><th scope=col>&lt;chr&gt;</th><th scope=col>&lt;chr&gt;</th><th scope=col>&lt;chr&gt;</th><th scope=col>&lt;dbl&gt;</th><th scope=col>&lt;chr&gt;</th><th scope=col>&lt;chr&gt;</th><th scope=col>&lt;chr&gt;</th><th scope=col>&lt;dbl&gt;</th><th scope=col>&lt;dbl&gt;</th><th scope=col>&lt;dbl&gt;</th><th scope=col>&lt;dbl&gt;</th><th scope=col>&lt;dbl&gt;</th><th scope=col>&lt;chr&gt;</th></tr>\n",
       "</thead>\n",
       "<tbody>\n",
       "\t<tr><td>97737218</td><td>2</td><td>2011-04-20</td><td>2012-11-02</td><td>47</td><td>48</td><td>DEKALB          </td><td>23013 TAMPER WITH MOTOR VEH-1S</td><td>NONVIOLENT</td><td>5</td><td>S</td><td>PPR</td><td>C-1</td><td>1</td><td>1</td><td>3</td><td>2</td><td>1</td><td>NA</td></tr>\n",
       "\t<tr><td>80832089</td><td>3</td><td>2016-05-11</td><td>2016-09-08</td><td>57</td><td>57</td><td>ST. FRANCOIS    </td><td>13029 DOMESTIC ASSAULT-2ND DEG</td><td>VIOLENT   </td><td>7</td><td>I</td><td>PRB</td><td>NA </td><td>0</td><td>0</td><td>0</td><td>0</td><td>0</td><td>NA</td></tr>\n",
       "\t<tr><td>88054449</td><td>2</td><td>2013-06-05</td><td>2014-01-21</td><td>52</td><td>52</td><td>NA              </td><td>22352 PR OFNDR RESIDE-1000 FT-</td><td>SEXCHLABUS</td><td>3</td><td>S</td><td>PPR</td><td>C-1</td><td>2</td><td>1</td><td>1</td><td>5</td><td>1</td><td>NA</td></tr>\n",
       "\t<tr><td>68129888</td><td>2</td><td>2007-10-17</td><td>2009-04-03</td><td>42</td><td>43</td><td>NA              </td><td>32450 POSS CONTROLLED SUBSTANC</td><td>DRUG      </td><td>7</td><td>S</td><td>PPR</td><td>C-1</td><td>3</td><td>2</td><td>1</td><td>2</td><td>1</td><td>NA</td></tr>\n",
       "\t<tr><td>78516984</td><td>2</td><td>2011-09-09</td><td>2015-06-12</td><td>53</td><td>56</td><td>ST. LOUIS COUNTY</td><td>13029 DOMESTIC ASSAULT-2ND DEG</td><td>VIOLENT   </td><td>7</td><td>S</td><td>PPR</td><td>C-1</td><td>1</td><td>2</td><td>1</td><td>2</td><td>1</td><td>NA</td></tr>\n",
       "\t<tr><td>65460877</td><td>2</td><td>2008-07-14</td><td>2009-01-30</td><td>49</td><td>50</td><td>NEWTON          </td><td>32450 POSS CONTROLLED SUBSTANC</td><td>DRUG      </td><td>6</td><td>S</td><td>PPR</td><td>C-1</td><td>1</td><td>1</td><td>4</td><td>4</td><td>1</td><td>NA</td></tr>\n",
       "</tbody>\n",
       "</table>\n"
      ],
      "text/latex": [
       "A tibble: 6 × 19\n",
       "\\begin{tabular}{lllllllllllllllllll}\n",
       " PERSON\\_ID & CYCLE & ADMISSION\\_DATE & RELEASE\\_DATE & AGE\\_AT\\_ADMISSION & AGE\\_AT\\_EXIT & COUNTY & MOCODE\\_DESC & OFFENSE\\_GROUP & SENTENCE\\_YEARS & ADMISSION\\_TYPE & RELEASE\\_TYPE & LAST\\_CUSTODY\\_LEVEL & LAST\\_MH\\_CODE & LAST\\_M\\_CODE & LAST\\_E\\_CODE & LAST\\_V\\_CODE & LAST\\_I\\_CODE & DEATH\\_DATE\\\\\n",
       " <dbl> & <dbl> & <chr> & <chr> & <dbl> & <dbl> & <chr> & <chr> & <chr> & <dbl> & <chr> & <chr> & <chr> & <dbl> & <dbl> & <dbl> & <dbl> & <dbl> & <chr>\\\\\n",
       "\\hline\n",
       "\t 97737218 & 2 & 2011-04-20 & 2012-11-02 & 47 & 48 & DEKALB           & 23013 TAMPER WITH MOTOR VEH-1S & NONVIOLENT & 5 & S & PPR & C-1 & 1 & 1 & 3 & 2 & 1 & NA\\\\\n",
       "\t 80832089 & 3 & 2016-05-11 & 2016-09-08 & 57 & 57 & ST. FRANCOIS     & 13029 DOMESTIC ASSAULT-2ND DEG & VIOLENT    & 7 & I & PRB & NA  & 0 & 0 & 0 & 0 & 0 & NA\\\\\n",
       "\t 88054449 & 2 & 2013-06-05 & 2014-01-21 & 52 & 52 & NA               & 22352 PR OFNDR RESIDE-1000 FT- & SEXCHLABUS & 3 & S & PPR & C-1 & 2 & 1 & 1 & 5 & 1 & NA\\\\\n",
       "\t 68129888 & 2 & 2007-10-17 & 2009-04-03 & 42 & 43 & NA               & 32450 POSS CONTROLLED SUBSTANC & DRUG       & 7 & S & PPR & C-1 & 3 & 2 & 1 & 2 & 1 & NA\\\\\n",
       "\t 78516984 & 2 & 2011-09-09 & 2015-06-12 & 53 & 56 & ST. LOUIS COUNTY & 13029 DOMESTIC ASSAULT-2ND DEG & VIOLENT    & 7 & S & PPR & C-1 & 1 & 2 & 1 & 2 & 1 & NA\\\\\n",
       "\t 65460877 & 2 & 2008-07-14 & 2009-01-30 & 49 & 50 & NEWTON           & 32450 POSS CONTROLLED SUBSTANC & DRUG       & 6 & S & PPR & C-1 & 1 & 1 & 4 & 4 & 1 & NA\\\\\n",
       "\\end{tabular}\n"
      ],
      "text/markdown": [
       "\n",
       "A tibble: 6 × 19\n",
       "\n",
       "| PERSON_ID &lt;dbl&gt; | CYCLE &lt;dbl&gt; | ADMISSION_DATE &lt;chr&gt; | RELEASE_DATE &lt;chr&gt; | AGE_AT_ADMISSION &lt;dbl&gt; | AGE_AT_EXIT &lt;dbl&gt; | COUNTY &lt;chr&gt; | MOCODE_DESC &lt;chr&gt; | OFFENSE_GROUP &lt;chr&gt; | SENTENCE_YEARS &lt;dbl&gt; | ADMISSION_TYPE &lt;chr&gt; | RELEASE_TYPE &lt;chr&gt; | LAST_CUSTODY_LEVEL &lt;chr&gt; | LAST_MH_CODE &lt;dbl&gt; | LAST_M_CODE &lt;dbl&gt; | LAST_E_CODE &lt;dbl&gt; | LAST_V_CODE &lt;dbl&gt; | LAST_I_CODE &lt;dbl&gt; | DEATH_DATE &lt;chr&gt; |\n",
       "|---|---|---|---|---|---|---|---|---|---|---|---|---|---|---|---|---|---|---|\n",
       "| 97737218 | 2 | 2011-04-20 | 2012-11-02 | 47 | 48 | DEKALB           | 23013 TAMPER WITH MOTOR VEH-1S | NONVIOLENT | 5 | S | PPR | C-1 | 1 | 1 | 3 | 2 | 1 | NA |\n",
       "| 80832089 | 3 | 2016-05-11 | 2016-09-08 | 57 | 57 | ST. FRANCOIS     | 13029 DOMESTIC ASSAULT-2ND DEG | VIOLENT    | 7 | I | PRB | NA  | 0 | 0 | 0 | 0 | 0 | NA |\n",
       "| 88054449 | 2 | 2013-06-05 | 2014-01-21 | 52 | 52 | NA               | 22352 PR OFNDR RESIDE-1000 FT- | SEXCHLABUS | 3 | S | PPR | C-1 | 2 | 1 | 1 | 5 | 1 | NA |\n",
       "| 68129888 | 2 | 2007-10-17 | 2009-04-03 | 42 | 43 | NA               | 32450 POSS CONTROLLED SUBSTANC | DRUG       | 7 | S | PPR | C-1 | 3 | 2 | 1 | 2 | 1 | NA |\n",
       "| 78516984 | 2 | 2011-09-09 | 2015-06-12 | 53 | 56 | ST. LOUIS COUNTY | 13029 DOMESTIC ASSAULT-2ND DEG | VIOLENT    | 7 | S | PPR | C-1 | 1 | 2 | 1 | 2 | 1 | NA |\n",
       "| 65460877 | 2 | 2008-07-14 | 2009-01-30 | 49 | 50 | NEWTON           | 32450 POSS CONTROLLED SUBSTANC | DRUG       | 6 | S | PPR | C-1 | 1 | 1 | 4 | 4 | 1 | NA |\n",
       "\n"
      ],
      "text/plain": [
       "  PERSON_ID CYCLE ADMISSION_DATE RELEASE_DATE AGE_AT_ADMISSION AGE_AT_EXIT\n",
       "1 97737218  2     2011-04-20     2012-11-02   47               48         \n",
       "2 80832089  3     2016-05-11     2016-09-08   57               57         \n",
       "3 88054449  2     2013-06-05     2014-01-21   52               52         \n",
       "4 68129888  2     2007-10-17     2009-04-03   42               43         \n",
       "5 78516984  2     2011-09-09     2015-06-12   53               56         \n",
       "6 65460877  2     2008-07-14     2009-01-30   49               50         \n",
       "  COUNTY           MOCODE_DESC                    OFFENSE_GROUP SENTENCE_YEARS\n",
       "1 DEKALB           23013 TAMPER WITH MOTOR VEH-1S NONVIOLENT    5             \n",
       "2 ST. FRANCOIS     13029 DOMESTIC ASSAULT-2ND DEG VIOLENT       7             \n",
       "3 NA               22352 PR OFNDR RESIDE-1000 FT- SEXCHLABUS    3             \n",
       "4 NA               32450 POSS CONTROLLED SUBSTANC DRUG          7             \n",
       "5 ST. LOUIS COUNTY 13029 DOMESTIC ASSAULT-2ND DEG VIOLENT       7             \n",
       "6 NEWTON           32450 POSS CONTROLLED SUBSTANC DRUG          6             \n",
       "  ADMISSION_TYPE RELEASE_TYPE LAST_CUSTODY_LEVEL LAST_MH_CODE LAST_M_CODE\n",
       "1 S              PPR          C-1                1            1          \n",
       "2 I              PRB          NA                 0            0          \n",
       "3 S              PPR          C-1                2            1          \n",
       "4 S              PPR          C-1                3            2          \n",
       "5 S              PPR          C-1                1            2          \n",
       "6 S              PPR          C-1                1            1          \n",
       "  LAST_E_CODE LAST_V_CODE LAST_I_CODE DEATH_DATE\n",
       "1 3           2           1           NA        \n",
       "2 0           0           0           NA        \n",
       "3 1           5           1           NA        \n",
       "4 1           2           1           NA        \n",
       "5 1           2           1           NA        \n",
       "6 4           4           1           NA        "
      ]
     },
     "metadata": {},
     "output_type": "display_data"
    }
   ],
   "source": [
    "head(releases)"
   ]
  },
  {
   "cell_type": "code",
   "execution_count": null,
   "id": "ba45d23c",
   "metadata": {
    "vscode": {
     "languageId": "r"
    }
   },
   "outputs": [],
   "source": []
  }
 ],
 "metadata": {
  "kernelspec": {
   "display_name": "R",
   "language": "R",
   "name": "ir"
  },
  "language_info": {
   "codemirror_mode": "r",
   "file_extension": ".r",
   "mimetype": "text/x-r-source",
   "name": "R",
   "pygments_lexer": "r",
   "version": "4.5.1"
  }
 },
 "nbformat": 4,
 "nbformat_minor": 5
}
